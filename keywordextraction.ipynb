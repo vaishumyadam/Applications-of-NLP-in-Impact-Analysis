{
 "cells": [
  {
   "cell_type": "code",
   "execution_count": null,
   "metadata": {},
   "outputs": [],
   "source": [
    "## Vaishu Myadam (vmyadam1208@gmail.com)\n",
    "## January - May, 2020"
   ]
  },
  {
   "cell_type": "code",
   "execution_count": null,
   "metadata": {},
   "outputs": [],
   "source": [
    "import glob, os\n",
    "import pandas as pd\n",
    "import nltk\n",
    "from nltk.util import ngrams"
   ]
  },
  {
   "cell_type": "code",
   "execution_count": null,
   "metadata": {},
   "outputs": [],
   "source": [
    "# reading in cleaning, testing, and phrases files\n",
    "\n",
    "doc_complete = []\n",
    "\n",
    "for file in glob.glob('Data Cleaning/**/*.txt', recursive = True):\n",
    "    with open(file) as read:\n",
    "        doc_complete.append(read.read())\n",
    "print(len(doc_complete)) "
   ]
  },
  {
   "cell_type": "code",
   "execution_count": null,
   "metadata": {},
   "outputs": [],
   "source": [
    "doc_standard = []\n",
    "for file in glob.glob('Gold Standard Files/**/*.txt',recursive=True):\n",
    "    with open(file) as read:\n",
    "        doc_standard.append(read.read())\n",
    "print(len(doc_standard)) "
   ]
  },
  {
   "cell_type": "code",
   "execution_count": null,
   "metadata": {},
   "outputs": [],
   "source": [
    "df = pd.read_excel('Phrases.xlsx', index_col=None, header=None)\n",
    "print(len(df))\n",
    "df[0][93] # it's a horizontal df so you choose the list first and then you choose the element\n",
    "df[0]"
   ]
  },
  {
   "cell_type": "code",
   "execution_count": null,
   "metadata": {},
   "outputs": [],
   "source": [
    "def extract_ngrams(data, num):\n",
    "    sentences = nltk.word_tokenize(data)\n",
    "    n_grams = list(ngrams(sentences,num))\n",
    "    return [' '.join(grams) for grams in n_grams]\n",
    "\n",
    "def find_occurrences_in_list(s, count, needle):\n",
    "    len_needle = len([k for k in needle.split(' ')])\n",
    "    lst = extract_ngrams(s, len_needle)\n",
    "    idxList = [i for i, x in enumerate(lst) if x == needle]\n",
    "    r = []\n",
    "    \n",
    "    for n in idxList:\n",
    "        s = n # - count\n",
    "        e = n + count + len_needle - 1\n",
    "        newlst = [i.split()[0] for i in lst]\n",
    "        r.append(\" \".join(newlst[s:e+1])) \n",
    "    return r "
   ]
  },
  {
   "cell_type": "code",
   "execution_count": null,
   "metadata": {},
   "outputs": [],
   "source": [
    "# running all files\n",
    "\n",
    "output_list = []\n",
    "for i in range(len(doc_complete)):\n",
    "    for p in df.index:\n",
    "        value = find_occurrences_in_list(doc_complete[i], 20, df[0][p])\n",
    "        if(value): # only adding non empty values\n",
    "            output_list.append(value)\n",
    "            \n",
    "# testing to see if duplicates are properly removed:            \n",
    "# output_list.append('vaishu')\n",
    "# output_list.append('vaishu')\n",
    "\n",
    "res = [] \n",
    "for i in output_list: \n",
    "    if i not in res: \n",
    "        res.append(i) \n",
    "        \n",
    "# writing list of phrases to text file\n",
    "with open('impact_phrases.txt', 'w') as filehandle:\n",
    "    for listitem in res:\n",
    "        filehandle.write('%s\\n' % listitem)"
   ]
  },
  {
   "cell_type": "code",
   "execution_count": null,
   "metadata": {},
   "outputs": [],
   "source": [
    "# running gold standard files\n",
    "\n",
    "output_list = []\n",
    "for i in range(len(doc_standard)):\n",
    "    for p in df.index:\n",
    "        value = find_occurrences_in_list(doc_complete[i], 20, df[0][p])\n",
    "        if(value): # only adding non empty values\n",
    "            output_list.append(value)\n",
    "res = [] \n",
    "for i in output_list: \n",
    "    if i not in res: \n",
    "        res.append(i) \n",
    "        \n",
    "with open('impact_phrases_specific.txt', 'w') as filehandle:\n",
    "    for listitem in res:\n",
    "        filehandle.write('%s\\n' % listitem)"
   ]
  }
 ],
 "metadata": {
  "kernelspec": {
   "display_name": "Python 3",
   "language": "python",
   "name": "python3"
  },
  "language_info": {
   "codemirror_mode": {
    "name": "ipython",
    "version": 3
   },
   "file_extension": ".py",
   "mimetype": "text/x-python",
   "name": "python",
   "nbconvert_exporter": "python",
   "pygments_lexer": "ipython3",
   "version": "3.7.4"
  }
 },
 "nbformat": 4,
 "nbformat_minor": 2
}
